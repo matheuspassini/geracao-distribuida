{
 "cells": [
  {
   "cell_type": "markdown",
   "metadata": {},
   "source": [
    "# Regressão Não Linear da Geração Distribuída no Brasil"
   ]
  },
  {
   "cell_type": "markdown",
   "metadata": {},
   "source": [
    "Dados obtidos a partir dos dados livres (open data) da ANEEL a partir do site: https://dados.gov.br/dataset?license_id=other-pd&organization=agencia-nacional-de-energia-eletrica em Fevereiro/2021"
   ]
  },
  {
   "cell_type": "code",
   "execution_count": 9,
   "metadata": {
    "colab": {
     "base_uri": "https://localhost:8080/"
    },
    "id": "Imt5wZ7BptZS",
    "outputId": "10642074-12d0-4975-93f4-cbb44eb59661"
   },
   "outputs": [
    {
     "name": "stdout",
     "output_type": "stream",
     "text": [
      "Versão da Linguagem Python Usada: 3.8.5\n"
     ]
    }
   ],
   "source": [
    "from platform import python_version\n",
    "print('Versão da Linguagem Python Usada:', python_version())"
   ]
  },
  {
   "cell_type": "code",
   "execution_count": 10,
   "metadata": {
    "id": "JNsdOf0TrCv5"
   },
   "outputs": [],
   "source": [
    "#Importa módulo csv\n",
    "import numpy as np\n",
    "from numpy import reshape\n",
    "import pandas as pd\n",
    "import scipy.stats as stats\n",
    "import matplotlib.pyplot as plt\n",
    "import sklearn\n",
    "from sklearn.linear_model import LinearRegression\n",
    "import matplotlib as mat\n",
    "import colorsys\n",
    "plt.style.use('seaborn-talk')\n",
    "import warnings\n",
    "warnings.filterwarnings(\"ignore\")\n",
    "import seaborn as srn\n",
    "from pandas.plotting import register_matplotlib_converters\n",
    "register_matplotlib_converters()\n",
    "import statistics  as sts"
   ]
  },
  {
   "cell_type": "code",
   "execution_count": 11,
   "metadata": {
    "colab": {
     "base_uri": "https://localhost:8080/"
    },
    "id": "QwTbB-Wrso1F",
    "outputId": "a2a13ede-b214-4c3d-dfa5-4c50be2d51c8"
   },
   "outputs": [
    {
     "data": {
      "text/html": [
       "<div>\n",
       "<style scoped>\n",
       "    .dataframe tbody tr th:only-of-type {\n",
       "        vertical-align: middle;\n",
       "    }\n",
       "\n",
       "    .dataframe tbody tr th {\n",
       "        vertical-align: top;\n",
       "    }\n",
       "\n",
       "    .dataframe thead th {\n",
       "        text-align: right;\n",
       "    }\n",
       "</style>\n",
       "<table border=\"1\" class=\"dataframe\">\n",
       "  <thead>\n",
       "    <tr style=\"text-align: right;\">\n",
       "      <th></th>\n",
       "      <th>ide</th>\n",
       "      <th>abreviatura</th>\n",
       "      <th>qtdUsina</th>\n",
       "      <th>PotInstkW</th>\n",
       "      <th>ano</th>\n",
       "    </tr>\n",
       "  </thead>\n",
       "  <tbody>\n",
       "    <tr>\n",
       "      <th>90</th>\n",
       "      <td>91</td>\n",
       "      <td>UFV</td>\n",
       "      <td>1</td>\n",
       "      <td>0.50</td>\n",
       "      <td>2007</td>\n",
       "    </tr>\n",
       "    <tr>\n",
       "      <th>54</th>\n",
       "      <td>55</td>\n",
       "      <td>CGH</td>\n",
       "      <td>0</td>\n",
       "      <td>0.00</td>\n",
       "      <td>2007</td>\n",
       "    </tr>\n",
       "    <tr>\n",
       "      <th>18</th>\n",
       "      <td>19</td>\n",
       "      <td>EOL</td>\n",
       "      <td>0</td>\n",
       "      <td>0.00</td>\n",
       "      <td>2007</td>\n",
       "    </tr>\n",
       "    <tr>\n",
       "      <th>126</th>\n",
       "      <td>127</td>\n",
       "      <td>UTE</td>\n",
       "      <td>0</td>\n",
       "      <td>0.00</td>\n",
       "      <td>2007</td>\n",
       "    </tr>\n",
       "    <tr>\n",
       "      <th>0</th>\n",
       "      <td>1</td>\n",
       "      <td>EOL</td>\n",
       "      <td>0</td>\n",
       "      <td>0.00</td>\n",
       "      <td>2008</td>\n",
       "    </tr>\n",
       "    <tr>\n",
       "      <th>...</th>\n",
       "      <td>...</td>\n",
       "      <td>...</td>\n",
       "      <td>...</td>\n",
       "      <td>...</td>\n",
       "      <td>...</td>\n",
       "    </tr>\n",
       "    <tr>\n",
       "      <th>35</th>\n",
       "      <td>36</td>\n",
       "      <td>EOL</td>\n",
       "      <td>0</td>\n",
       "      <td>0.00</td>\n",
       "      <td>2019</td>\n",
       "    </tr>\n",
       "    <tr>\n",
       "      <th>27</th>\n",
       "      <td>28</td>\n",
       "      <td>EOL</td>\n",
       "      <td>0</td>\n",
       "      <td>0.00</td>\n",
       "      <td>2019</td>\n",
       "    </tr>\n",
       "    <tr>\n",
       "      <th>17</th>\n",
       "      <td>18</td>\n",
       "      <td>EOL</td>\n",
       "      <td>0</td>\n",
       "      <td>0.00</td>\n",
       "      <td>2019</td>\n",
       "    </tr>\n",
       "    <tr>\n",
       "      <th>125</th>\n",
       "      <td>126</td>\n",
       "      <td>UTE</td>\n",
       "      <td>9</td>\n",
       "      <td>4024.96</td>\n",
       "      <td>2019</td>\n",
       "    </tr>\n",
       "    <tr>\n",
       "      <th>143</th>\n",
       "      <td>144</td>\n",
       "      <td>UTE</td>\n",
       "      <td>0</td>\n",
       "      <td>0.00</td>\n",
       "      <td>2019</td>\n",
       "    </tr>\n",
       "  </tbody>\n",
       "</table>\n",
       "<p>144 rows × 5 columns</p>\n",
       "</div>"
      ],
      "text/plain": [
       "     ide abreviatura  qtdUsina  PotInstkW   ano\n",
       "90    91         UFV         1       0.50  2007\n",
       "54    55         CGH         0       0.00  2007\n",
       "18    19         EOL         0       0.00  2007\n",
       "126  127         UTE         0       0.00  2007\n",
       "0      1         EOL         0       0.00  2008\n",
       "..   ...         ...       ...        ...   ...\n",
       "35    36         EOL         0       0.00  2019\n",
       "27    28         EOL         0       0.00  2019\n",
       "17    18         EOL         0       0.00  2019\n",
       "125  126         UTE         9    4024.96  2019\n",
       "143  144         UTE         0       0.00  2019\n",
       "\n",
       "[144 rows x 5 columns]"
      ]
     },
     "execution_count": 11,
     "metadata": {},
     "output_type": "execute_result"
    }
   ],
   "source": [
    "# Leitura de arquivos csv\n",
    "\n",
    "\n",
    "#leitor = pd.read_csv('GeracaoDistribuida.csv', encoding='unicode_escape', skiprows=[0])\n",
    "leitor = pd.read_csv('GeracaoDistribuida.csv')\n",
    "#import sys\n",
    "#leitor.to_csv(sys.stdout, sep = '|')\n",
    "leitor.columns =['ide','tipodegeracao', 'abreviatura', 'qtdUsina', 'PotInstkW', 'mes', 'ano', 'data']\n",
    "leitor = leitor.drop(['data', 'tipodegeracao', 'mes'], axis=1)\n",
    "leitor = leitor.sort_values('ano', ascending = True)\n",
    "leitor\n",
    "\n"
   ]
  },
  {
   "cell_type": "code",
   "execution_count": 12,
   "metadata": {
    "colab": {
     "base_uri": "https://localhost:8080/"
    },
    "id": "QHlmhZ2zHduA",
    "outputId": "68376533-dc6d-4602-c007-3b68733f4062"
   },
   "outputs": [
    {
     "name": "stdout",
     "output_type": "stream",
     "text": [
      "Index(['ide', 'abreviatura', 'qtdUsina', 'PotInstkW', 'ano'], dtype='object')\n"
     ]
    }
   ],
   "source": [
    "print(leitor.columns)"
   ]
  },
  {
   "cell_type": "code",
   "execution_count": 13,
   "metadata": {
    "colab": {
     "base_uri": "https://localhost:8080/"
    },
    "id": "qRTJYsX2XfPP",
    "outputId": "619a7514-9b87-46c6-c0b7-145933e14d96"
   },
   "outputs": [
    {
     "data": {
      "text/plain": [
       "ide            0\n",
       "abreviatura    0\n",
       "qtdUsina       0\n",
       "PotInstkW      0\n",
       "ano            0\n",
       "dtype: int64"
      ]
     },
     "execution_count": 13,
     "metadata": {},
     "output_type": "execute_result"
    }
   ],
   "source": [
    "leitor.isnull().sum()"
   ]
  },
  {
   "cell_type": "code",
   "execution_count": 14,
   "metadata": {
    "colab": {
     "base_uri": "https://localhost:8080/",
     "height": 406
    },
    "id": "P6UMUFeZTena",
    "outputId": "74b54cee-13b4-44b5-e0d5-87344b75dcf0"
   },
   "outputs": [
    {
     "data": {
      "text/html": [
       "<div>\n",
       "<style scoped>\n",
       "    .dataframe tbody tr th:only-of-type {\n",
       "        vertical-align: middle;\n",
       "    }\n",
       "\n",
       "    .dataframe tbody tr th {\n",
       "        vertical-align: top;\n",
       "    }\n",
       "\n",
       "    .dataframe thead th {\n",
       "        text-align: right;\n",
       "    }\n",
       "</style>\n",
       "<table border=\"1\" class=\"dataframe\">\n",
       "  <thead>\n",
       "    <tr style=\"text-align: right;\">\n",
       "      <th></th>\n",
       "      <th>ide</th>\n",
       "      <th>abreviatura</th>\n",
       "      <th>qtdUsina</th>\n",
       "      <th>PotInstkW</th>\n",
       "      <th>ano</th>\n",
       "    </tr>\n",
       "  </thead>\n",
       "  <tbody>\n",
       "    <tr>\n",
       "      <th>90</th>\n",
       "      <td>91</td>\n",
       "      <td>UFV</td>\n",
       "      <td>1</td>\n",
       "      <td>0.50</td>\n",
       "      <td>2007</td>\n",
       "    </tr>\n",
       "    <tr>\n",
       "      <th>72</th>\n",
       "      <td>73</td>\n",
       "      <td>UFV</td>\n",
       "      <td>1</td>\n",
       "      <td>25.00</td>\n",
       "      <td>2008</td>\n",
       "    </tr>\n",
       "    <tr>\n",
       "      <th>81</th>\n",
       "      <td>82</td>\n",
       "      <td>UFV</td>\n",
       "      <td>1</td>\n",
       "      <td>30.00</td>\n",
       "      <td>2010</td>\n",
       "    </tr>\n",
       "    <tr>\n",
       "      <th>92</th>\n",
       "      <td>93</td>\n",
       "      <td>UFV</td>\n",
       "      <td>1</td>\n",
       "      <td>9.90</td>\n",
       "      <td>2011</td>\n",
       "    </tr>\n",
       "    <tr>\n",
       "      <th>73</th>\n",
       "      <td>74</td>\n",
       "      <td>UFV</td>\n",
       "      <td>1</td>\n",
       "      <td>5.00</td>\n",
       "      <td>2011</td>\n",
       "    </tr>\n",
       "    <tr>\n",
       "      <th>...</th>\n",
       "      <td>...</td>\n",
       "      <td>...</td>\n",
       "      <td>...</td>\n",
       "      <td>...</td>\n",
       "      <td>...</td>\n",
       "    </tr>\n",
       "    <tr>\n",
       "      <th>99</th>\n",
       "      <td>100</td>\n",
       "      <td>UFV</td>\n",
       "      <td>17159</td>\n",
       "      <td>195142.31</td>\n",
       "      <td>2019</td>\n",
       "    </tr>\n",
       "    <tr>\n",
       "      <th>89</th>\n",
       "      <td>90</td>\n",
       "      <td>UFV</td>\n",
       "      <td>14854</td>\n",
       "      <td>167934.49</td>\n",
       "      <td>2019</td>\n",
       "    </tr>\n",
       "    <tr>\n",
       "      <th>63</th>\n",
       "      <td>64</td>\n",
       "      <td>CGH</td>\n",
       "      <td>6</td>\n",
       "      <td>2820.00</td>\n",
       "      <td>2019</td>\n",
       "    </tr>\n",
       "    <tr>\n",
       "      <th>53</th>\n",
       "      <td>54</td>\n",
       "      <td>CGH</td>\n",
       "      <td>16</td>\n",
       "      <td>21125.52</td>\n",
       "      <td>2019</td>\n",
       "    </tr>\n",
       "    <tr>\n",
       "      <th>125</th>\n",
       "      <td>126</td>\n",
       "      <td>UTE</td>\n",
       "      <td>9</td>\n",
       "      <td>4024.96</td>\n",
       "      <td>2019</td>\n",
       "    </tr>\n",
       "  </tbody>\n",
       "</table>\n",
       "<p>88 rows × 5 columns</p>\n",
       "</div>"
      ],
      "text/plain": [
       "     ide abreviatura  qtdUsina  PotInstkW   ano\n",
       "90    91         UFV         1       0.50  2007\n",
       "72    73         UFV         1      25.00  2008\n",
       "81    82         UFV         1      30.00  2010\n",
       "92    93         UFV         1       9.90  2011\n",
       "73    74         UFV         1       5.00  2011\n",
       "..   ...         ...       ...        ...   ...\n",
       "99   100         UFV     17159  195142.31  2019\n",
       "89    90         UFV     14854  167934.49  2019\n",
       "63    64         CGH         6    2820.00  2019\n",
       "53    54         CGH        16   21125.52  2019\n",
       "125  126         UTE         9    4024.96  2019\n",
       "\n",
       "[88 rows x 5 columns]"
      ]
     },
     "execution_count": 14,
     "metadata": {},
     "output_type": "execute_result"
    }
   ],
   "source": [
    "mask = ((leitor['PotInstkW'] == 0.0)&(leitor['qtdUsina']==0.0))\n",
    "\n",
    "leitor = leitor.loc[~mask]\n",
    "leitor\n",
    "\n",
    "#if leitor['abreviatura' == 'UFV']:\n",
    "#  for i in leitor[:,4]:\n",
    "#    leitor.groupby(['ano']).sum()\n",
    "#return'''\n",
    "\n",
    "\n"
   ]
  },
  {
   "cell_type": "code",
   "execution_count": 15,
   "metadata": {
    "colab": {
     "base_uri": "https://localhost:8080/"
    },
    "id": "5l_o8G39H3BE",
    "outputId": "3fbb1fe3-b3b9-460c-9789-667c7f0e877e"
   },
   "outputs": [
    {
     "data": {
      "text/plain": [
       "abreviatura\n",
       "CGH    15\n",
       "EOL    19\n",
       "UFV    35\n",
       "UTE    19\n",
       "dtype: int64"
      ]
     },
     "execution_count": 15,
     "metadata": {},
     "output_type": "execute_result"
    }
   ],
   "source": [
    "grupoger = leitor.groupby(['abreviatura']).size()\n",
    "grupoger"
   ]
  },
  {
   "cell_type": "code",
   "execution_count": 16,
   "metadata": {
    "colab": {
     "base_uri": "https://localhost:8080/",
     "height": 496
    },
    "id": "Ew9ztNlxIz2X",
    "outputId": "9e52e8fe-496b-4ba4-e806-df2ec40f9349"
   },
   "outputs": [
    {
     "data": {
      "text/plain": [
       "<matplotlib.axes._subplots.AxesSubplot at 0x22e0332bd00>"
      ]
     },
     "execution_count": 16,
     "metadata": {},
     "output_type": "execute_result"
    },
    {
     "data": {
      "image/png": "[encoded data removed]",
      "text/plain": [
       "<Figure size 748.8x514.8 with 1 Axes>"
      ]
     },
     "metadata": {
      "needs_background": "light"
     },
     "output_type": "display_data"
    }
   ],
   "source": [
    "#Verificando quantidade de dados para cada geração\n",
    "grupoger.plot.bar(color = 'blue')"
   ]
  },
  {
   "cell_type": "code",
   "execution_count": 17,
   "metadata": {
    "colab": {
     "base_uri": "https://localhost:8080/"
    },
    "id": "U_LrqScbQPOM",
    "outputId": "95cf5c44-f4a6-41cc-f257-33fb8429fc29"
   },
   "outputs": [
    {
     "name": "stdout",
     "output_type": "stream",
     "text": [
      "              ide      qtdUsina      PotInstkW          ano\n",
      "count   88.000000     88.000000      88.000000    88.000000\n",
      "mean    77.590909   1032.784091   12640.077159  2015.625000\n",
      "std     39.348030   3080.213959   34130.704865     2.422654\n",
      "min      4.000000      1.000000       0.500000  2007.000000\n",
      "25%     43.750000      3.000000      27.325000  2014.000000\n",
      "50%     82.500000      6.000000    1151.110000  2016.000000\n",
      "75%    105.250000     40.750000    5880.455000  2017.000000\n",
      "max    143.000000  17159.000000  195142.310000  2019.000000\n"
     ]
    }
   ],
   "source": [
    "a = print(leitor.describe())"
   ]
  },
  {
   "cell_type": "code",
   "execution_count": 18,
   "metadata": {
    "colab": {
     "base_uri": "https://localhost:8080/",
     "height": 47
    },
    "id": "UGEnaKiAccRM",
    "outputId": "aaf40acb-b0d5-419b-9803-a9c394a1c07c"
   },
   "outputs": [
    {
     "data": {
      "text/html": [
       "<div>\n",
       "<style scoped>\n",
       "    .dataframe tbody tr th:only-of-type {\n",
       "        vertical-align: middle;\n",
       "    }\n",
       "\n",
       "    .dataframe tbody tr th {\n",
       "        vertical-align: top;\n",
       "    }\n",
       "\n",
       "    .dataframe thead th {\n",
       "        text-align: right;\n",
       "    }\n",
       "</style>\n",
       "<table border=\"1\" class=\"dataframe\">\n",
       "  <thead>\n",
       "    <tr style=\"text-align: right;\">\n",
       "      <th></th>\n",
       "      <th>ide</th>\n",
       "      <th>abreviatura</th>\n",
       "      <th>qtdUsina</th>\n",
       "      <th>PotInstkW</th>\n",
       "      <th>ano</th>\n",
       "    </tr>\n",
       "  </thead>\n",
       "  <tbody>\n",
       "  </tbody>\n",
       "</table>\n",
       "</div>"
      ],
      "text/plain": [
       "Empty DataFrame\n",
       "Columns: [ide, abreviatura, qtdUsina, PotInstkW, ano]\n",
       "Index: []"
      ]
     },
     "execution_count": 18,
     "metadata": {},
     "output_type": "execute_result"
    }
   ],
   "source": [
    "#Verificando se há dados duplicados\n",
    "leitor[leitor.duplicated(['ide'],keep=False)]"
   ]
  },
  {
   "cell_type": "code",
   "execution_count": 19,
   "metadata": {
    "colab": {
     "base_uri": "https://localhost:8080/",
     "height": 713
    },
    "id": "jh8ccioS1HCx",
    "outputId": "c19ba672-478e-451e-d8e9-5a547e9b075f"
   },
   "outputs": [
    {
     "name": "stdout",
     "output_type": "stream",
     "text": [
      "     ano   ide  qtdUsina  PotInstkW\n",
      "0   2007    91         1    0.00050\n",
      "1   2008    73         1    0.02500\n",
      "2   2010    82         1    0.03000\n",
      "3   2011   167         2    0.01490\n",
      "4   2012   259         5    0.42394\n",
      "5   2013   390        60    1.41716\n",
      "6   2014   733       308    3.48418\n",
      "7   2015   858      1477   11.87460\n",
      "8   2016  1133      6800   74.30596\n",
      "9   2017  1192     14034  181.74979\n",
      "10  2018  1172     35238  429.78590\n",
      "11  2019   678     32958  409.21486\n"
     ]
    },
    {
     "data": {
      "text/plain": [
       "Text(0.5, 1.0, 'Contexto da geração distribuída de 2007 a 2019')"
      ]
     },
     "execution_count": 19,
     "metadata": {},
     "output_type": "execute_result"
    },
    {
     "data": {
      "image/png": "[encoded data removed]",
      "text/plain": [
       "<Figure size 748.8x514.8 with 1 Axes>"
      ]
     },
     "metadata": {
      "needs_background": "light"
     },
     "output_type": "display_data"
    }
   ],
   "source": [
    "dados = leitor.set_index('ano')  \n",
    "dados = leitor.drop(['ide'], axis=1)\n",
    "dados = leitor.groupby(['ano']).sum()\n",
    "dados = dados.reset_index('ano')\n",
    "dados.PotInstkW = dados.PotInstkW/1000\n",
    "dados.qtdUsina = dados.qtdUsina\n",
    "print(dados)\n",
    "plt.scatter(dados.ano, dados.PotInstkW, label = 'Potência instalada em MW')\n",
    "#plt.scatter(dados.ano, dados.qtdUsina, label = 'Quantidade de empreendimentos')\n",
    "plt.legend()\n",
    "plt.title('Contexto da geração distribuída de 2007 a 2019')\n",
    "\n"
   ]
  },
  {
   "cell_type": "code",
   "execution_count": 20,
   "metadata": {},
   "outputs": [],
   "source": [
    "leitor.ufv = leitor[(leitor['abreviatura'] == 'UFV')]\n",
    "leitor.ufv = leitor.ufv.set_index('ano')  \n",
    "leitor.ufv = leitor.ufv.drop(['ide'], axis=1)\n",
    "grupo_ufv = leitor.ufv.groupby(['ano']).sum()\n",
    "grupo_ufv = leitor.ufv.groupby(['ano']).sum()\n",
    "grupo_ufv = grupo_ufv.reset_index('ano')"
   ]
  },
  {
   "cell_type": "code",
   "execution_count": 21,
   "metadata": {},
   "outputs": [],
   "source": [
    "leitor.eol = leitor[(leitor['abreviatura'] == 'EOL')]\n",
    "leitor.eol = leitor.eol.set_index('ano')  \n",
    "leitor.eol = leitor.eol.drop(['ide'], axis=1)\n",
    "grupo_eol = leitor.eol.groupby(['ano']).sum()\n",
    "grupo_eol = leitor.eol.groupby(['ano']).sum()\n",
    "grupo_eol = grupo_eol.reset_index('ano')"
   ]
  },
  {
   "cell_type": "code",
   "execution_count": 22,
   "metadata": {},
   "outputs": [],
   "source": [
    "leitor.cgh = leitor[(leitor['abreviatura'] == 'CGH')]\n",
    "leitor.cgh = leitor.cgh.set_index('ano')  \n",
    "leitor.cgh = leitor.cgh.drop(['ide'], axis=1)\n",
    "grupo_cgh = leitor.cgh.groupby(['ano']).sum()\n",
    "grupo_cgh = leitor.cgh.groupby(['ano']).sum()\n",
    "grupo_cgh = grupo_cgh.reset_index('ano')"
   ]
  },
  {
   "cell_type": "code",
   "execution_count": 23,
   "metadata": {},
   "outputs": [],
   "source": [
    "leitor.ute = leitor[(leitor['abreviatura'] == 'UTE')]\n",
    "leitor.ute = leitor.ute.set_index('ano')  \n",
    "leitor.ute = leitor.ute.drop(['ide'], axis=1)\n",
    "grupo_ute = leitor.ute.groupby(['ano']).sum()\n",
    "grupo_ute = leitor.ute.groupby(['ano']).sum()\n",
    "grupo_ute = grupo_ute.reset_index('ano')"
   ]
  },
  {
   "cell_type": "code",
   "execution_count": 24,
   "metadata": {
    "colab": {
     "base_uri": "https://localhost:8080/",
     "height": 482
    },
    "id": "kqXAH711m_Z5",
    "outputId": "f776939a-cf60-45d1-d919-6136c8023927"
   },
   "outputs": [
    {
     "data": {
      "text/plain": [
       "Text(0.5, 1.0, 'Potência instalada dos empreendimentos de geração distribuída')"
      ]
     },
     "execution_count": 24,
     "metadata": {},
     "output_type": "execute_result"
    },
    {
     "data": {
      "image/png": "[encoded data removed]",
      "text/plain": [
       "<Figure size 748.8x514.8 with 1 Axes>"
      ]
     },
     "metadata": {
      "needs_background": "light"
     },
     "output_type": "display_data"
    }
   ],
   "source": [
    "plt.plot(grupo_cgh['PotInstkW'], label = 'CGH')\n",
    "plt.plot(grupo_eol['PotInstkW'], label = 'EOL')\n",
    "plt.plot(grupo_ufv['PotInstkW'], label = 'UFV')\n",
    "plt.plot(grupo_ute['PotInstkW'], label = 'UTE')\n",
    "plt.legend()\n",
    "plt.title('Potência instalada dos empreendimentos de geração distribuída')"
   ]
  },
  {
   "cell_type": "code",
   "execution_count": 25,
   "metadata": {
    "colab": {
     "base_uri": "https://localhost:8080/",
     "height": 482
    },
    "id": "eNp_3B_xz5c7",
    "outputId": "b258fd8e-ffb5-45c5-ce25-8ebc9846d808"
   },
   "outputs": [
    {
     "data": {
      "text/plain": [
       "Text(0.5, 1.0, 'Quantidade dos empreendimentos de geração distribuída')"
      ]
     },
     "execution_count": 25,
     "metadata": {},
     "output_type": "execute_result"
    },
    {
     "data": {
      "image/png": "[encoded data removed]",
      "text/plain": [
       "<Figure size 748.8x514.8 with 1 Axes>"
      ]
     },
     "metadata": {
      "needs_background": "light"
     },
     "output_type": "display_data"
    }
   ],
   "source": [
    "xlabel = 'Anos'\n",
    "ylabel = 'Quantidade de empreendimentos'\n",
    "plt.plot(grupo_cgh['qtdUsina'], label = 'CGH')\n",
    "plt.plot(grupo_eol['qtdUsina'], label = 'EOL')\n",
    "plt.plot(grupo_ufv['qtdUsina'], label = 'UFV')\n",
    "plt.plot(grupo_ute['qtdUsina'], label = 'UTE')\n",
    "plt.legend()\n",
    "plt.title('Quantidade dos empreendimentos de geração distribuída')"
   ]
  },
  {
   "cell_type": "code",
   "execution_count": 26,
   "metadata": {
    "colab": {
     "base_uri": "https://localhost:8080/",
     "height": 53
    },
    "id": "7ZgAWWog5AfH",
    "outputId": "4726b56b-0227-4349-a054-f2fd985b5fce"
   },
   "outputs": [],
   "source": [
    "def sigmoid(x, Beta_1, Beta_2):\n",
    "     y = 1 / (1 + np.exp(-Beta_1*(x-Beta_2)))\n",
    "     return y"
   ]
  },
  {
   "cell_type": "code",
   "execution_count": 27,
   "metadata": {},
   "outputs": [
    {
     "data": {
      "text/plain": [
       "[<matplotlib.lines.Line2D at 0x22e0353c130>]"
      ]
     },
     "execution_count": 27,
     "metadata": {},
     "output_type": "execute_result"
    },
    {
     "data": {
      "image/png": "[encoded data removed]",
      "text/plain": [
       "<Figure size 748.8x514.8 with 1 Axes>"
      ]
     },
     "metadata": {
      "needs_background": "light"
     },
     "output_type": "display_data"
    }
   ],
   "source": [
    "beta_1 = 0.10\n",
    "beta_2 = 1990\n",
    "\n",
    "x_data, y_data = (dados[\"ano\"].values, dados[\"PotInstkW\"].values)\n",
    "\n",
    "#logistic function\n",
    "Y_pred = sigmoid(x_data, beta_1 , beta_2)\n",
    "\n",
    "\n",
    "#plot initial prediction against datapoints\n",
    "plt.plot(x_data, Y_pred)\n",
    "plt.plot(x_data, y_data, 'ro')"
   ]
  },
  {
   "cell_type": "code",
   "execution_count": 28,
   "metadata": {},
   "outputs": [
    {
     "name": "stdout",
     "output_type": "stream",
     "text": [
      " beta_1 = 4739.476120, beta_2 = 0.999025\n"
     ]
    }
   ],
   "source": [
    "xdata =x_data/max(x_data)\n",
    "ydata =y_data/max(y_data)\n",
    "from scipy.optimize import curve_fit\n",
    "popt, pcov = curve_fit(sigmoid, xdata, ydata)\n",
    "#print the final parameters\n",
    "print(\" beta_1 = %f, beta_2 = %f\" % (popt[0], popt[1]))\n"
   ]
  },
  {
   "cell_type": "code",
   "execution_count": 29,
   "metadata": {},
   "outputs": [
    {
     "data": {
      "image/png": "[encoded data removed]",
      "text/plain": [
       "<Figure size 576x360 with 1 Axes>"
      ]
     },
     "metadata": {
      "needs_background": "light"
     },
     "output_type": "display_data"
    }
   ],
   "source": [
    "x = np.linspace(2007, 2020, 55)\n",
    "x = x/max(x)\n",
    "plt.figure(figsize=(8,5))\n",
    "y = sigmoid(x, *popt)\n",
    "plt.plot(xdata, ydata, 'ro', label='Potência instalada de geração distribuída')\n",
    "plt.plot(x,y, linewidth=3.0, label='Aproximação da Potência por regressão não linear')\n",
    "plt.legend(loc='best')\n",
    "plt.ylabel('Potência Instalada Normalizada')\n",
    "plt.xlabel('Ano Normalizado')\n",
    "plt.show()"
   ]
  },
  {
   "cell_type": "code",
   "execution_count": null,
   "metadata": {},
   "outputs": [],
   "source": []
  }
 ],
 "metadata": {
  "colab": {
   "collapsed_sections": [],
   "name": "Analise_Dados_Geracao_Distribuida_opendata_ANEEL.ipynb",
   "provenance": [],
   "toc_visible": true
  },
  "kernelspec": {
   "display_name": "Python 3",
   "language": "python",
   "name": "python3"
  },
  "language_info": {
   "codemirror_mode": {
    "name": "ipython",
    "version": 3
   },
   "file_extension": ".py",
   "mimetype": "text/x-python",
   "name": "python",
   "nbconvert_exporter": "python",
   "pygments_lexer": "ipython3",
   "version": "3.8.5"
  }
 },
 "nbformat": 4,
 "nbformat_minor": 1
}
